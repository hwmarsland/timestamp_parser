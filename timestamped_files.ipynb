{
 "cells": [
  {
   "cell_type": "code",
   "execution_count": null,
   "metadata": {},
   "outputs": [],
   "source": [
    "import pandas as pd\n",
    "import numpy as np"
   ]
  },
  {
   "cell_type": "code",
   "execution_count": null,
   "metadata": {},
   "outputs": [],
   "source": [
    "data = pd.read_excel('test_outdated_files.xlsx', header=0)\n",
    "df = data.copy()\n",
    "df"
   ]
  },
  {
   "cell_type": "code",
   "execution_count": null,
   "metadata": {},
   "outputs": [],
   "source": [
    "df['temp'] = df['Original']\n",
    "df['last_access_date'] = np.nan\n",
    "df['last_access_time'] = np.nan\n",
    "df['filepath_folder'] = np.nan\n",
    "df['filepath_file'] = np.nan\n",
    "df"
   ]
  },
  {
   "cell_type": "code",
   "execution_count": null,
   "metadata": {},
   "outputs": [],
   "source": [
    "path = ''\n",
    "counter = 0\n",
    "for i in df['temp']:\n",
    "    if 'Directory' in str(i):\n",
    "        if df.at[counter+1, 'temp'] is np.nan:\n",
    "            path = str(i)\n",
    "        else:\n",
    "            path = str(i) + str(df.at[counter+1, 'temp'])\n",
    "    elif i is np.nan or str(i).startswith('Mode') or '-------------' in str(i):\n",
    "        pass\n",
    "    else:\n",
    "        df.at[counter, 'filepath_folder'] = path\n",
    "    counter = counter + 1\n",
    "\n",
    "df\n",
    "\n",
    "    "
   ]
  },
  {
   "cell_type": "code",
   "execution_count": null,
   "metadata": {},
   "outputs": [],
   "source": [
    "counter = 0\n",
    "for i in df['temp']:\n",
    "    if 'Directory:' in str(i) and '152.2.156.60' in str(i):\n",
    "        df.at[counter, 'temp'] = np.nan\n",
    "        df.at[counter+1, 'temp'] = np.nan\n",
    "    elif 'Mode' in str(i) and 'LastWriteTime' in str(i) and 'Length' in str(i) and 'Name' in str(i):\n",
    "        df.at[counter, 'temp'] = np.nan\n",
    "    elif '------------' in str(i):\n",
    "        df.at[counter, 'temp'] = np.nan\n",
    "    counter = counter + 1\n",
    "\n",
    "\n",
    "df"
   ]
  },
  {
   "cell_type": "code",
   "execution_count": null,
   "metadata": {},
   "outputs": [],
   "source": [
    "counter = 0\n",
    "for i in df['temp']:\n",
    "    if str(i) == 'nan':\n",
    "        pass\n",
    "    else:\n",
    "        if counter < (len(df['temp']) - 1) and 'AM' not in str(df.at[counter+1, 'temp']) and 'PM' not in str(df.at[counter+1, 'temp']) and df.at[counter+1, 'temp'] is not np.nan:\n",
    "            df.at[counter, 'temp'] = str(i)[14:] + ' ' + str(df.at[counter+1, 'temp'])\n",
    "            df.at[counter+1, 'temp'] = np.nan\n",
    "        else:\n",
    "            df.at[counter, 'temp'] = str(i)[14:]\n",
    "    counter = counter + 1\n",
    "\n",
    "df"
   ]
  },
  {
   "cell_type": "code",
   "execution_count": null,
   "metadata": {},
   "outputs": [],
   "source": [
    "counter = 0\n",
    "for i in df['temp']:\n",
    "    if str(i) == 'nan':\n",
    "        pass\n",
    "    else:\n",
    "        df.at[counter, 'last_access_date'] = str(i)[0:10]\n",
    "        df.at[counter, 'temp'] = str(i)[10:]\n",
    "    counter = counter + 1\n",
    "\n",
    "df['last_access_date'] = df['last_access_date'].replace(' ', '', regex=True)\n",
    "\n",
    "df"
   ]
  },
  {
   "cell_type": "code",
   "execution_count": null,
   "metadata": {},
   "outputs": [],
   "source": [
    "counter = 0\n",
    "for i in df['temp']:\n",
    "    if str(i) == 'nan':\n",
    "        pass\n",
    "    else:\n",
    "        df.at[counter, 'last_access_time'] = str(i)[2:10]\n",
    "        df.at[counter, 'temp'] = str(i)[26:]\n",
    "    counter = counter + 1\n",
    "\n",
    "df['last_access_time'] = df['last_access_time'].replace(' ', '', regex=True)\n",
    "df['last_access_time'] = df['last_access_time'].replace('PM', ' PM', regex=True)\n",
    "df['last_access_time'] = df['last_access_time'].replace('AM', ' AM', regex=True)\n",
    "\n",
    "df"
   ]
  },
  {
   "cell_type": "code",
   "execution_count": null,
   "metadata": {},
   "outputs": [],
   "source": [
    "counter = 0\n",
    "for i in df['temp']:\n",
    "    if str(i) == 'nan':\n",
    "        pass\n",
    "    else:\n",
    "        df.at[counter, 'filepath_file'] = str(df.at[counter, 'filepath_folder']) + '\\\\' + str(df.at[counter, 'temp'])\n",
    "    counter = counter + 1\n",
    "\n",
    "df['filepath_file'] = df['filepath_file'].replace('  ', ' ', regex=True)\n",
    "df['filepath_file'] = df['filepath_file'].replace('  ', ' ', regex=True)\n",
    "df['filepath_file'] = df['filepath_file'].replace('  ', ' ', regex=True)\n",
    "df['filepath_file'] = df['filepath_file'].replace('  ', ' ', regex=True)\n",
    "df['filepath_file'] = df['filepath_file'].replace('  ', ' ', regex=True)\n",
    "df['filepath_file'] = df['filepath_file'].replace('  ', ' ', regex=True)\n",
    "df['filepath_file'] = df['filepath_file'].replace('  ', ' ', regex=True)\n",
    "df['filepath_file'] = df['filepath_file'].replace('  ', ' ', regex=True)\n",
    "\n",
    "counter = 0\n",
    "for i in df['filepath_file']:\n",
    "    if str(i) == 'nan':\n",
    "        pass\n",
    "    else:\n",
    "        df.at[counter, 'filepath_file'] = str(i)[1:]\n",
    "    counter = counter + 1\n",
    "\n",
    "df"
   ]
  },
  {
   "cell_type": "code",
   "execution_count": null,
   "metadata": {},
   "outputs": [],
   "source": [
    "counter = 0\n",
    "for i in df['filepath_file']:\n",
    "    if str(i) == 'nan':\n",
    "        df.at[counter, 'filepath_folder'] = np.nan\n",
    "    counter = counter + 1\n",
    "\n",
    "df['filepath_folder'] = df['filepath_folder'].replace('  ', ' ', regex=True)\n",
    "df['filepath_folder'] = df['filepath_folder'].replace('  ', ' ', regex=True)\n",
    "df['filepath_folder'] = df['filepath_folder'].replace('  ', ' ', regex=True)\n",
    "df['filepath_folder'] = df['filepath_folder'].replace('  ', ' ', regex=True)\n",
    "df['filepath_folder'] = df['filepath_folder'].replace('  ', ' ', regex=True)\n",
    "df['filepath_folder'] = df['filepath_folder'].replace('  ', ' ', regex=True)\n",
    "df['filepath_folder'] = df['filepath_folder'].replace('  ', ' ', regex=True)\n",
    "df['filepath_folder'] = df['filepath_folder'].replace('  ', ' ', regex=True)\n",
    "\n",
    "counter = 0\n",
    "for i in df['filepath_folder']:\n",
    "    if str(i) == 'nan':\n",
    "        pass\n",
    "    else:\n",
    "        df.at[counter, 'filepath_folder'] = str(i)[1:]\n",
    "    counter = counter + 1\n",
    "\n",
    "df"
   ]
  },
  {
   "cell_type": "code",
   "execution_count": null,
   "metadata": {},
   "outputs": [],
   "source": [
    "df = df.drop(columns=['temp'])\n",
    "df"
   ]
  },
  {
   "cell_type": "code",
   "execution_count": null,
   "metadata": {},
   "outputs": [],
   "source": [
    "for i in df['filepath_folder']: # remove after finished w/ testing\n",
    "    print(str(i))"
   ]
  }
 ],
 "metadata": {
  "interpreter": {
   "hash": "280a247eacf4578fa7ef5c49cd9c3871a1915e67cdc6e1df2f25a9a29c49b856"
  },
  "kernelspec": {
   "display_name": "Python 3.10.4 64-bit (windows store)",
   "language": "python",
   "name": "python3"
  },
  "language_info": {
   "codemirror_mode": {
    "name": "ipython",
    "version": 3
   },
   "file_extension": ".py",
   "mimetype": "text/x-python",
   "name": "python",
   "nbconvert_exporter": "python",
   "pygments_lexer": "ipython3",
   "version": "3.10.5"
  },
  "orig_nbformat": 4
 },
 "nbformat": 4,
 "nbformat_minor": 2
}
